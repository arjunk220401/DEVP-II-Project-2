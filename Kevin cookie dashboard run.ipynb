{
 "cells": [
  {
   "cell_type": "code",
   "execution_count": 1,
   "id": "b4efb9d6",
   "metadata": {},
   "outputs": [],
   "source": [
    "! pip install streamlit -q"
   ]
  },
  {
   "cell_type": "code",
   "execution_count": 2,
   "id": "a0b5b41b",
   "metadata": {},
   "outputs": [
    {
     "name": "stderr",
     "output_type": "stream",
     "text": [
      "'wget' is not recognized as an internal or external command,\n",
      "operable program or batch file.\n"
     ]
    }
   ],
   "source": [
    "!wget -q -O - ipv4.icanhazip.com\n"
   ]
  },
  {
   "cell_type": "code",
   "execution_count": null,
   "id": "6d74842e",
   "metadata": {},
   "outputs": [],
   "source": [
    "! streamlit run Untitled18.py & npx localtunnel --port 8505\n",
    "     "
   ]
  },
  {
   "cell_type": "code",
   "execution_count": null,
   "id": "5d0148f7",
   "metadata": {},
   "outputs": [],
   "source": []
  }
 ],
 "metadata": {
  "kernelspec": {
   "display_name": "Python 3 (ipykernel)",
   "language": "python",
   "name": "python3"
  },
  "language_info": {
   "codemirror_mode": {
    "name": "ipython",
    "version": 3
   },
   "file_extension": ".py",
   "mimetype": "text/x-python",
   "name": "python",
   "nbconvert_exporter": "python",
   "pygments_lexer": "ipython3",
   "version": "3.11.3"
  }
 },
 "nbformat": 4,
 "nbformat_minor": 5
}
